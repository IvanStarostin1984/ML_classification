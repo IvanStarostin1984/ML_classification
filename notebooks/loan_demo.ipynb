{
 "cells": [
  {
   "cell_type": "markdown",
   "metadata": {},
   "source": [
    "# Loan classification demo\n",
    "This notebook demonstrates loading the dataset, engineering features, and training a model using the `src` package."
   ]
  },
  {
   "cell_type": "code",
   "metadata": {},
   "execution_count": null,
   "outputs": [],
   "source": [
    "from src import dataprep, features\n",
    "from src.models import logreg\n",
    "\n",
    "df = dataprep.load_raw('data/loan.csv')\n",
    "fe = features.FeatureEngineer()\n",
    "df_fe = fe.fit_transform(df)\n",
    "model = logreg.fit(df_fe)\n"
   ]
  }
 ],
 "metadata": {
  "kernelspec": {
   "display_name": "Python 3",
   "language": "python",
   "name": "python3"
  },
  "language_info": {
   "name": "python",
   "pygments_lexer": "ipython3"
  }
 },
 "nbformat": 4,
 "nbformat_minor": 5
}
