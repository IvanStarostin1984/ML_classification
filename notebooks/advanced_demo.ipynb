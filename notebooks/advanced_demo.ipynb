{
 "cells": [
  {
   "cell_type": "markdown",
   "metadata": {},
   "source": [
    "# Advanced grid-search demo\n",
    "Download the Kaggle data, run grid-search training, evaluate fairness and calibrate the models."
   ]
  },
  {
   "cell_type": "code",
   "metadata": {},
   "execution_count": null,
   "outputs": [],
   "source": [
    "from pathlib import Path\n",
    "from scripts import download_data\n",
    "from src.models import logreg, cart\n",
    "download_data.main()\n",
    "df = logreg.load_data()\n",
    "gs_lr = logreg.grid_train_from_df(df, artefact_path=Path('artefacts/logreg_gs.joblib'))\n",
    "gs_cart = cart.grid_train_from_df(df, artefact_path=Path('artefacts/cart_gs.joblib'))\n"
   ]
  },
  {
   "cell_type": "code",
   "metadata": {},
   "execution_count": null,
   "outputs": [],
   "source": [
    "from src.evaluate import evaluate_models\n",
    "from src.evaluation_utils import youden_thr, four_fifths\n",
    "metrics = evaluate_models(df, group_col='Gender')\n",
    "thr = youden_thr(gs_lr.best_estimator_, df.drop(columns=[logreg.TARGET]), df[logreg.TARGET])\n",
    "ff = four_fifths(gs_lr.best_estimator_, df.drop(columns=[logreg.TARGET]), df[logreg.TARGET], 'Gender', thr)\n",
    "metrics, ff\n"
   ]
  },
  {
   "cell_type": "code",
   "metadata": {},
   "execution_count": null,
   "outputs": [],
   "source": [
    "from src.calibration import calibrate_model\n",
    "import joblib\n",
    "X = df.drop(columns=[logreg.TARGET])\n",
    "y = df[logreg.TARGET]\n",
    "cal_lr = calibrate_model(gs_lr.best_estimator_, X, y)\n",
    "cal_cart = calibrate_model(gs_cart.best_estimator_, X, y)\n",
    "joblib.dump(cal_lr, 'artefacts/logreg_calibrated.joblib')\n",
    "joblib.dump(cal_cart, 'artefacts/cart_calibrated.joblib')\n"
   ]
  }
 ],
 "metadata": {
  "kernelspec": {
   "display_name": "Python 3",
   "language": "python",
   "name": "python3"
  },
  "language_info": {
   "name": "python",
   "pygments_lexer": "ipython3"
  }
 },
 "nbformat": 4,
 "nbformat_minor": 5
}
